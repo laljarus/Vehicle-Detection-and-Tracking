{
 "cells": [
  {
   "cell_type": "code",
   "execution_count": 1,
   "metadata": {},
   "outputs": [],
   "source": [
    "%matplotlib inline"
   ]
  },
  {
   "cell_type": "markdown",
   "metadata": {},
   "source": [
    "\n",
    "# Histogram of Oriented Gradients\n",
    "\n",
    "\n",
    "The Histogram of Oriented Gradient (HOG) feature descriptor is popular\n",
    "for object detection [1]_.\n",
    "\n",
    "In the following example, we compute the `HOG descriptor\n",
    "<http://en.wikipedia.org/wiki/Histogram_of_oriented_gradients>`__\n",
    "and display a visualisation.\n",
    "\n",
    "Algorithm overview\n",
    "------------------\n",
    "\n",
    "Compute a Histogram of Oriented Gradients (HOG) by\n",
    "\n",
    "1. (optional) global image normalisation\n",
    "2. computing the gradient image in x and y\n",
    "3. computing gradient histograms\n",
    "4. normalising across blocks\n",
    "5. flattening into a feature vector\n",
    "\n",
    "The first stage applies an optional global image normalisation\n",
    "equalisation that is designed to reduce the influence of illumination\n",
    "effects. In practice we use gamma (power law) compression, either\n",
    "computing the square root or the log of each colour channel.\n",
    "Image texture strength is typically proportional to the local surface\n",
    "illumination so this compression helps to reduce the effects of local\n",
    "shadowing and illumination variations.\n",
    "\n",
    "The second stage computes first order image gradients. These capture\n",
    "contour, silhouette and some texture information, while providing\n",
    "further resistance to illumination variations. The locally dominant\n",
    "colour channel is used, which provides colour invariance to a large\n",
    "extent. Variant methods may also include second order image derivatives,\n",
    "which act as primitive bar detectors - a useful feature for capturing,\n",
    "e.g. bar like structures in bicycles and limbs in humans.\n",
    "\n",
    "The third stage aims to produce an encoding that is sensitive to\n",
    "local image content while remaining resistant to small changes in\n",
    "pose or appearance. The adopted method pools gradient orientation\n",
    "information locally in the same way as the SIFT [2]_\n",
    "feature. The image window is divided into small spatial regions,\n",
    "called \"cells\". For each cell we accumulate a local 1-D histogram\n",
    "of gradient or edge orientations over all the pixels in the\n",
    "cell. This combined cell-level 1-D histogram forms the basic\n",
    "\"orientation histogram\" representation. Each orientation histogram\n",
    "divides the gradient angle range into a fixed number of\n",
    "predetermined bins. The gradient magnitudes of the pixels in the\n",
    "cell are used to vote into the orientation histogram.\n",
    "\n",
    "The fourth stage computes normalisation, which takes local groups of\n",
    "cells and contrast normalises their overall responses before passing\n",
    "to next stage. Normalisation introduces better invariance to illumination,\n",
    "shadowing, and edge contrast. It is performed by accumulating a measure\n",
    "of local histogram \"energy\" over local groups of cells that we call\n",
    "\"blocks\". The result is used to normalise each cell in the block.\n",
    "Typically each individual cell is shared between several blocks, but\n",
    "its normalisations are block dependent and thus different. The cell\n",
    "thus appears several times in the final output vector with different\n",
    "normalisations. This may seem redundant but it improves the performance.\n",
    "We refer to the normalised block descriptors as Histogram of Oriented\n",
    "Gradient (HOG) descriptors.\n",
    "\n",
    "The final step collects the HOG descriptors from all blocks of a dense\n",
    "overlapping grid of blocks covering the detection window into a combined\n",
    "feature vector for use in the window classifier.\n",
    "\n",
    "References\n",
    "----------\n",
    "\n",
    ".. [1] Dalal, N. and Triggs, B., \"Histograms of Oriented Gradients for\n",
    "       Human Detection,\" IEEE Computer Society Conference on Computer\n",
    "       Vision and Pattern Recognition, 2005, San Diego, CA, USA.\n",
    "\n",
    ".. [2] David G. Lowe, \"Distinctive image features from scale-invariant\n",
    "       keypoints,\" International Journal of Computer Vision, 60, 2 (2004),\n",
    "       pp. 91-110.\n",
    "\n",
    "\n"
   ]
  },
  {
   "cell_type": "code",
   "execution_count": 2,
   "metadata": {},
   "outputs": [
    {
     "name": "stderr",
     "output_type": "stream",
     "text": [
      "C:\\ProgramData\\Anaconda3\\envs\\carnd-term1-gpu\\lib\\site-packages\\skimage\\feature\\_hog.py:119: skimage_deprecation: Default value of `block_norm`==`L1` is deprecated and will be changed to `L2-Hys` in v0.15\n",
      "  'be changed to `L2-Hys` in v0.15', skimage_deprecation)\n"
     ]
    },
    {
     "data": {
      "image/png": "[encoded data removed]",
      "text/plain": [
       "<matplotlib.figure.Figure at 0x2692561e358>"
      ]
     },
     "metadata": {},
     "output_type": "display_data"
    }
   ],
   "source": [
    "import matplotlib.pyplot as plt\n",
    "\n",
    "from skimage.feature import hog\n",
    "from skimage import data, color, exposure\n",
    "import matplotlib.image as mpimg\n",
    "import cv2\n",
    "\n",
    "\n",
    "#image = color.rgb2gray(data.astronaut())\n",
    "#image = cv2.imread('test_images/test1.jpg')\n",
    "#image = mpimg.imread('53.png')\n",
    "image = mpimg.imread('vehicles\\\\GTI_Far\\\\image0000.png')\n",
    "image_gray = cv2.cvtColor(image, cv2.COLOR_RGB2GRAY)\n",
    "\n",
    "fd, hog_image = hog(image[:,:,0], orientations=9, pixels_per_cell=(8,8),\n",
    "                    cells_per_block=(1,1), visualise=True)\n",
    "\n",
    "fig, (ax1, ax2) = plt.subplots(1, 2, figsize=(10, 10), sharex=True, sharey=True)\n",
    "fig.tight_layout()\n",
    "\n",
    "ax1.axis('off')\n",
    "ax1.imshow(image, cmap=plt.cm.gray)\n",
    "ax1.set_title('Input image')\n",
    "ax1.set_adjustable('box-forced')\n",
    "\n",
    "# Rescale histogram for better display\n",
    "hog_image_rescaled = exposure.rescale_intensity(hog_image, in_range=(0, 0.02))\n",
    "\n",
    "ax2.axis('off')\n",
    "ax2.imshow(hog_image, cmap=plt.cm.gray)\n",
    "ax2.set_title('Histogram of Oriented Gradients')\n",
    "ax1.set_adjustable('box-forced')\n",
    "plt.show()"
   ]
  },
  {
   "cell_type": "code",
   "execution_count": 3,
   "metadata": {},
   "outputs": [
    {
     "data": {
      "text/plain": [
       "(64, 64, 3)"
      ]
     },
     "execution_count": 3,
     "metadata": {},
     "output_type": "execute_result"
    }
   ],
   "source": [
    "image.shape\n"
   ]
  },
  {
   "cell_type": "code",
   "execution_count": 15,
   "metadata": {},
   "outputs": [
    {
     "data": {
      "text/plain": [
       "(64, 3)"
      ]
     },
     "execution_count": 15,
     "metadata": {},
     "output_type": "execute_result"
    }
   ],
   "source": [
    "image[0].shape"
   ]
  },
  {
   "cell_type": "code",
   "execution_count": 5,
   "metadata": {},
   "outputs": [
    {
     "data": {
      "text/plain": [
       "10164"
      ]
     },
     "execution_count": 5,
     "metadata": {},
     "output_type": "execute_result"
    }
   ],
   "source": [
    "11*11*2*2*7*3\n"
   ]
  },
  {
   "cell_type": "code",
   "execution_count": 6,
   "metadata": {},
   "outputs": [],
   "source": [
    "from lesson_functions import *\n"
   ]
  },
  {
   "cell_type": "code",
   "execution_count": 7,
   "metadata": {},
   "outputs": [],
   "source": [
    "spatial_feature = bin_spatial(image,size=(16,16))"
   ]
  },
  {
   "cell_type": "code",
   "execution_count": 8,
   "metadata": {},
   "outputs": [
    {
     "data": {
      "text/plain": [
       "(768,)"
      ]
     },
     "execution_count": 8,
     "metadata": {},
     "output_type": "execute_result"
    }
   ],
   "source": [
    "spatial_feature.shape"
   ]
  },
  {
   "cell_type": "code",
   "execution_count": 10,
   "metadata": {},
   "outputs": [
    {
     "data": {
      "text/plain": [
       "768"
      ]
     },
     "execution_count": 10,
     "metadata": {},
     "output_type": "execute_result"
    }
   ],
   "source": [
    "16*16*3"
   ]
  },
  {
   "cell_type": "code",
   "execution_count": 30,
   "metadata": {},
   "outputs": [
    {
     "name": "stderr",
     "output_type": "stream",
     "text": [
      "C:\\ProgramData\\Anaconda3\\envs\\carnd-term1-gpu\\lib\\site-packages\\skimage\\feature\\_hog.py:119: skimage_deprecation: Default value of `block_norm`==`L1` is deprecated and will be changed to `L2-Hys` in v0.15\n",
      "  'be changed to `L2-Hys` in v0.15', skimage_deprecation)\n"
     ]
    }
   ],
   "source": [
    "pixels_per_cell = 6\n",
    "cells_per_block = 2\n",
    "oreint = 7\n",
    "hog_feature = get_hog_features(image[:,:,0],oreint,pixels_per_cell,cells_per_block)"
   ]
  },
  {
   "cell_type": "code",
   "execution_count": 31,
   "metadata": {},
   "outputs": [
    {
     "data": {
      "text/plain": [
       "(2268,)"
      ]
     },
     "execution_count": 31,
     "metadata": {},
     "output_type": "execute_result"
    }
   ],
   "source": [
    "hog_feature.shape"
   ]
  },
  {
   "cell_type": "code",
   "execution_count": 32,
   "metadata": {},
   "outputs": [],
   "source": [
    "s_row, s_col = image.shape[:2]\n",
    "n_cells_row = int(s_row // pixels_per_cell)  # number of cells along row-axis\n",
    "n_cells_col = int(s_col // pixels_per_cell)  # number of cells along col-axis\n",
    "n_blocks_row = (n_cells_row - cells_per_block) + 1\n",
    "n_blocks_col = (n_cells_col - cells_per_block) + 1"
   ]
  },
  {
   "cell_type": "code",
   "execution_count": 33,
   "metadata": {},
   "outputs": [
    {
     "data": {
      "text/plain": [
       "2268"
      ]
     },
     "execution_count": 33,
     "metadata": {},
     "output_type": "execute_result"
    }
   ],
   "source": [
    "n_blocks_row*n_blocks_col*cells_per_block*cells_per_block*oreint"
   ]
  },
  {
   "cell_type": "code",
   "execution_count": 34,
   "metadata": {},
   "outputs": [
    {
     "data": {
      "text/plain": [
       "10"
      ]
     },
     "execution_count": 34,
     "metadata": {},
     "output_type": "execute_result"
    }
   ],
   "source": [
    "n_cells_row"
   ]
  },
  {
   "cell_type": "code",
   "execution_count": 35,
   "metadata": {},
   "outputs": [
    {
     "data": {
      "text/plain": [
       "9"
      ]
     },
     "execution_count": 35,
     "metadata": {},
     "output_type": "execute_result"
    }
   ],
   "source": [
    "n_blocks_row"
   ]
  },
  {
   "cell_type": "code",
   "execution_count": 36,
   "metadata": {},
   "outputs": [
    {
     "data": {
      "text/plain": [
       "1372"
      ]
     },
     "execution_count": 36,
     "metadata": {},
     "output_type": "execute_result"
    }
   ],
   "source": [
    "7*7*2*2*7"
   ]
  },
  {
   "cell_type": "code",
   "execution_count": null,
   "metadata": {},
   "outputs": [],
   "source": []
  }
 ],
 "metadata": {
  "kernelspec": {
   "display_name": "Python 3",
   "language": "python",
   "name": "python3"
  },
  "language_info": {
   "codemirror_mode": {
    "name": "ipython",
    "version": 3
   },
   "file_extension": ".py",
   "mimetype": "text/x-python",
   "name": "python",
   "nbconvert_exporter": "python",
   "pygments_lexer": "ipython3",
   "version": "3.5.2"
  },
  "widgets": {
   "state": {},
   "version": "1.1.2"
  }
 },
 "nbformat": 4,
 "nbformat_minor": 1
}
