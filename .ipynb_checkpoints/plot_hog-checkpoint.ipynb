{
 "cells": [
  {
   "cell_type": "code",
   "execution_count": 3,
   "metadata": {},
   "outputs": [],
   "source": [
    "%matplotlib inline"
   ]
  },
  {
   "cell_type": "markdown",
   "metadata": {},
   "source": [
    "\n",
    "# Histogram of Oriented Gradients\n",
    "\n",
    "\n",
    "The Histogram of Oriented Gradient (HOG) feature descriptor is popular\n",
    "for object detection [1]_.\n",
    "\n",
    "In the following example, we compute the `HOG descriptor\n",
    "<http://en.wikipedia.org/wiki/Histogram_of_oriented_gradients>`__\n",
    "and display a visualisation.\n",
    "\n",
    "Algorithm overview\n",
    "------------------\n",
    "\n",
    "Compute a Histogram of Oriented Gradients (HOG) by\n",
    "\n",
    "1. (optional) global image normalisation\n",
    "2. computing the gradient image in x and y\n",
    "3. computing gradient histograms\n",
    "4. normalising across blocks\n",
    "5. flattening into a feature vector\n",
    "\n",
    "The first stage applies an optional global image normalisation\n",
    "equalisation that is designed to reduce the influence of illumination\n",
    "effects. In practice we use gamma (power law) compression, either\n",
    "computing the square root or the log of each colour channel.\n",
    "Image texture strength is typically proportional to the local surface\n",
    "illumination so this compression helps to reduce the effects of local\n",
    "shadowing and illumination variations.\n",
    "\n",
    "The second stage computes first order image gradients. These capture\n",
    "contour, silhouette and some texture information, while providing\n",
    "further resistance to illumination variations. The locally dominant\n",
    "colour channel is used, which provides colour invariance to a large\n",
    "extent. Variant methods may also include second order image derivatives,\n",
    "which act as primitive bar detectors - a useful feature for capturing,\n",
    "e.g. bar like structures in bicycles and limbs in humans.\n",
    "\n",
    "The third stage aims to produce an encoding that is sensitive to\n",
    "local image content while remaining resistant to small changes in\n",
    "pose or appearance. The adopted method pools gradient orientation\n",
    "information locally in the same way as the SIFT [2]_\n",
    "feature. The image window is divided into small spatial regions,\n",
    "called \"cells\". For each cell we accumulate a local 1-D histogram\n",
    "of gradient or edge orientations over all the pixels in the\n",
    "cell. This combined cell-level 1-D histogram forms the basic\n",
    "\"orientation histogram\" representation. Each orientation histogram\n",
    "divides the gradient angle range into a fixed number of\n",
    "predetermined bins. The gradient magnitudes of the pixels in the\n",
    "cell are used to vote into the orientation histogram.\n",
    "\n",
    "The fourth stage computes normalisation, which takes local groups of\n",
    "cells and contrast normalises their overall responses before passing\n",
    "to next stage. Normalisation introduces better invariance to illumination,\n",
    "shadowing, and edge contrast. It is performed by accumulating a measure\n",
    "of local histogram \"energy\" over local groups of cells that we call\n",
    "\"blocks\". The result is used to normalise each cell in the block.\n",
    "Typically each individual cell is shared between several blocks, but\n",
    "its normalisations are block dependent and thus different. The cell\n",
    "thus appears several times in the final output vector with different\n",
    "normalisations. This may seem redundant but it improves the performance.\n",
    "We refer to the normalised block descriptors as Histogram of Oriented\n",
    "Gradient (HOG) descriptors.\n",
    "\n",
    "The final step collects the HOG descriptors from all blocks of a dense\n",
    "overlapping grid of blocks covering the detection window into a combined\n",
    "feature vector for use in the window classifier.\n",
    "\n",
    "References\n",
    "----------\n",
    "\n",
    ".. [1] Dalal, N. and Triggs, B., \"Histograms of Oriented Gradients for\n",
    "       Human Detection,\" IEEE Computer Society Conference on Computer\n",
    "       Vision and Pattern Recognition, 2005, San Diego, CA, USA.\n",
    "\n",
    ".. [2] David G. Lowe, \"Distinctive image features from scale-invariant\n",
    "       keypoints,\" International Journal of Computer Vision, 60, 2 (2004),\n",
    "       pp. 91-110.\n",
    "\n",
    "\n"
   ]
  },
  {
   "cell_type": "code",
   "execution_count": 4,
   "metadata": {},
   "outputs": [
    {
     "name": "stderr",
     "output_type": "stream",
     "text": [
      "C:\\ProgramData\\Anaconda3\\envs\\carnd-term1-gpu\\lib\\site-packages\\skimage\\feature\\_hog.py:119: skimage_deprecation: Default value of `block_norm`==`L1` is deprecated and will be changed to `L2-Hys` in v0.15\n",
      "  'be changed to `L2-Hys` in v0.15', skimage_deprecation)\n"
     ]
    },
    {
     "ename": "ValueError",
     "evalue": "The parameter `image` must be a 2-dimensional array",
     "output_type": "error",
     "traceback": [
      "\u001b[1;31m---------------------------------------------------------------------------\u001b[0m",
      "\u001b[1;31mValueError\u001b[0m                                Traceback (most recent call last)",
      "\u001b[1;32m<ipython-input-4-84079b1f434d>\u001b[0m in \u001b[0;36m<module>\u001b[1;34m()\u001b[0m\n\u001b[0;32m     10\u001b[0m \u001b[1;33m\u001b[0m\u001b[0m\n\u001b[0;32m     11\u001b[0m fd, hog_image = hog(image, orientations=8, pixels_per_cell=(16, 16),\n\u001b[1;32m---> 12\u001b[1;33m                     cells_per_block=(1, 1), visualise=True)\n\u001b[0m\u001b[0;32m     13\u001b[0m \u001b[1;33m\u001b[0m\u001b[0m\n\u001b[0;32m     14\u001b[0m \u001b[0mfig\u001b[0m\u001b[1;33m,\u001b[0m \u001b[1;33m(\u001b[0m\u001b[0max1\u001b[0m\u001b[1;33m,\u001b[0m \u001b[0max2\u001b[0m\u001b[1;33m)\u001b[0m \u001b[1;33m=\u001b[0m \u001b[0mplt\u001b[0m\u001b[1;33m.\u001b[0m\u001b[0msubplots\u001b[0m\u001b[1;33m(\u001b[0m\u001b[1;36m1\u001b[0m\u001b[1;33m,\u001b[0m \u001b[1;36m2\u001b[0m\u001b[1;33m,\u001b[0m \u001b[0mfigsize\u001b[0m\u001b[1;33m=\u001b[0m\u001b[1;33m(\u001b[0m\u001b[1;36m15\u001b[0m\u001b[1;33m,\u001b[0m \u001b[1;36m10\u001b[0m\u001b[1;33m)\u001b[0m\u001b[1;33m,\u001b[0m \u001b[0msharex\u001b[0m\u001b[1;33m=\u001b[0m\u001b[1;32mTrue\u001b[0m\u001b[1;33m,\u001b[0m \u001b[0msharey\u001b[0m\u001b[1;33m=\u001b[0m\u001b[1;32mTrue\u001b[0m\u001b[1;33m)\u001b[0m\u001b[1;33m\u001b[0m\u001b[0m\n",
      "\u001b[1;32mC:\\ProgramData\\Anaconda3\\envs\\carnd-term1-gpu\\lib\\site-packages\\skimage\\feature\\_hog.py\u001b[0m in \u001b[0;36mhog\u001b[1;34m(image, orientations, pixels_per_cell, cells_per_block, block_norm, visualise, transform_sqrt, feature_vector, normalise)\u001b[0m\n\u001b[0;32m    131\u001b[0m     \"\"\"\n\u001b[0;32m    132\u001b[0m \u001b[1;33m\u001b[0m\u001b[0m\n\u001b[1;32m--> 133\u001b[1;33m     \u001b[0massert_nD\u001b[0m\u001b[1;33m(\u001b[0m\u001b[0mimage\u001b[0m\u001b[1;33m,\u001b[0m \u001b[1;36m2\u001b[0m\u001b[1;33m)\u001b[0m\u001b[1;33m\u001b[0m\u001b[0m\n\u001b[0m\u001b[0;32m    134\u001b[0m \u001b[1;33m\u001b[0m\u001b[0m\n\u001b[0;32m    135\u001b[0m     \u001b[1;32mif\u001b[0m \u001b[0mnormalise\u001b[0m \u001b[1;32mis\u001b[0m \u001b[1;32mnot\u001b[0m \u001b[1;32mNone\u001b[0m\u001b[1;33m:\u001b[0m\u001b[1;33m\u001b[0m\u001b[0m\n",
      "\u001b[1;32mC:\\ProgramData\\Anaconda3\\envs\\carnd-term1-gpu\\lib\\site-packages\\skimage\\_shared\\utils.py\u001b[0m in \u001b[0;36massert_nD\u001b[1;34m(array, ndim, arg_name)\u001b[0m\n\u001b[0;32m    176\u001b[0m         \u001b[1;32mraise\u001b[0m \u001b[0mValueError\u001b[0m\u001b[1;33m(\u001b[0m\u001b[0mmsg_empty_array\u001b[0m \u001b[1;33m%\u001b[0m \u001b[1;33m(\u001b[0m\u001b[0marg_name\u001b[0m\u001b[1;33m)\u001b[0m\u001b[1;33m)\u001b[0m\u001b[1;33m\u001b[0m\u001b[0m\n\u001b[0;32m    177\u001b[0m     \u001b[1;32mif\u001b[0m \u001b[1;32mnot\u001b[0m \u001b[0marray\u001b[0m\u001b[1;33m.\u001b[0m\u001b[0mndim\u001b[0m \u001b[1;32min\u001b[0m \u001b[0mndim\u001b[0m\u001b[1;33m:\u001b[0m\u001b[1;33m\u001b[0m\u001b[0m\n\u001b[1;32m--> 178\u001b[1;33m         \u001b[1;32mraise\u001b[0m \u001b[0mValueError\u001b[0m\u001b[1;33m(\u001b[0m\u001b[0mmsg_incorrect_dim\u001b[0m \u001b[1;33m%\u001b[0m \u001b[1;33m(\u001b[0m\u001b[0marg_name\u001b[0m\u001b[1;33m,\u001b[0m \u001b[1;34m'-or-'\u001b[0m\u001b[1;33m.\u001b[0m\u001b[0mjoin\u001b[0m\u001b[1;33m(\u001b[0m\u001b[1;33m[\u001b[0m\u001b[0mstr\u001b[0m\u001b[1;33m(\u001b[0m\u001b[0mn\u001b[0m\u001b[1;33m)\u001b[0m \u001b[1;32mfor\u001b[0m \u001b[0mn\u001b[0m \u001b[1;32min\u001b[0m \u001b[0mndim\u001b[0m\u001b[1;33m]\u001b[0m\u001b[1;33m)\u001b[0m\u001b[1;33m)\u001b[0m\u001b[1;33m)\u001b[0m\u001b[1;33m\u001b[0m\u001b[0m\n\u001b[0m\u001b[0;32m    179\u001b[0m \u001b[1;33m\u001b[0m\u001b[0m\n\u001b[0;32m    180\u001b[0m \u001b[1;33m\u001b[0m\u001b[0m\n",
      "\u001b[1;31mValueError\u001b[0m: The parameter `image` must be a 2-dimensional array"
     ]
    }
   ],
   "source": [
    "import matplotlib.pyplot as plt\n",
    "\n",
    "from skimage.feature import hog\n",
    "from skimage import data, color, exposure\n",
    "import cv2\n",
    "\n",
    "\n",
    "#image = color.rgb2gray(data.astronaut())\n",
    "image = cv2.imread('test_images/test1.jpg')\n",
    "image = cv2.\n",
    "\n",
    "fd, hog_image = hog(image, orientations=8, pixels_per_cell=(16, 16),\n",
    "                    cells_per_block=(1, 1), visualise=True)\n",
    "\n",
    "fig, (ax1, ax2) = plt.subplots(1, 2, figsize=(15, 10), sharex=True, sharey=True)\n",
    "\n",
    "\n",
    "ax1.axis('off')\n",
    "ax1.imshow(image, cmap=plt.cm.gray)\n",
    "ax1.set_title('Input image')\n",
    "ax1.set_adjustable('box-forced')\n",
    "\n",
    "# Rescale histogram for better display\n",
    "hog_image_rescaled = exposure.rescale_intensity(hog_image, in_range=(0, 0.02))\n",
    "\n",
    "ax2.axis('off')\n",
    "ax2.imshow(hog_image_rescaled, cmap=plt.cm.gray)\n",
    "ax2.set_title('Histogram of Oriented Gradients')\n",
    "ax1.set_adjustable('box-forced')\n",
    "plt.show()"
   ]
  },
  {
   "cell_type": "code",
   "execution_count": null,
   "metadata": {},
   "outputs": [],
   "source": []
  }
 ],
 "metadata": {
  "kernelspec": {
   "display_name": "Python 3",
   "language": "python",
   "name": "python3"
  },
  "language_info": {
   "codemirror_mode": {
    "name": "ipython",
    "version": 3
   },
   "file_extension": ".py",
   "mimetype": "text/x-python",
   "name": "python",
   "nbconvert_exporter": "python",
   "pygments_lexer": "ipython3",
   "version": "3.5.2"
  },
  "widgets": {
   "state": {},
   "version": "1.1.2"
  }
 },
 "nbformat": 4,
 "nbformat_minor": 1
}
